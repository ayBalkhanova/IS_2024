{
 "cells": [
  {
   "cell_type": "markdown",
   "id": "454795c8-3815-43b9-871b-9203dfc80286",
   "metadata": {},
   "source": [
    "#### Задача 1. Дан произвольный неориентированный невзвешенный связный граф с числом вершин N. Дана вершина s в этом графе и число 1 <= k <= N. Найти множество вершин, находящихся на расстоянии k (расстояние минимальное) от заданной вершины s.\n"
   ]
  },
  {
   "cell_type": "code",
   "execution_count": 179,
   "id": "b6914575-79db-4da9-97fb-5e7f6a943bf1",
   "metadata": {},
   "outputs": [
    {
     "name": "stdout",
     "output_type": "stream",
     "text": [
      "{1, 2, 3, 6}\n"
     ]
    }
   ],
   "source": [
    "graph = [ # Список смежности\n",
    "            [1, 2, 3],       # Вершина 0\n",
    "            [0, 4],          # Вершина 1\n",
    "            [0, 3, 5],       # 2\n",
    "            [0, 2, 5],       # 3\n",
    "            [1, 5, 7],       # 4\n",
    "            [2, 3, 4, 6, 7], # 5\n",
    "            [5],             # 6\n",
    "            [4, 5],          # 7\n",
    "        ] \n",
    "\n",
    "s = 7  # Заданная вершина\n",
    "k = 2  # Минимальное расстояние\n",
    "res = []\n",
    "\n",
    "def connected_vertices(graph, verteces): # Находит смежности смежных с данными вершинами\n",
    "    arr = []\n",
    "    for i in verteces:\n",
    "        arr += graph[i]\n",
    "    return arr\n",
    "\n",
    "adjacency_list = graph[s] # Смежности данной вершины\n",
    "past_vertices = set([s]) # \"Пройденные\" вершины\n",
    "\n",
    "for _ in range(1, k):\n",
    "    past_vertices.update(adjacency_list)\n",
    "    adjacency_list = connected_vertices(graph, adjacency_list)\n",
    "    res += adjacency_list\n",
    "res = set(res) - past_vertices\n",
    "\n",
    "if k == 1:\n",
    "    print(set(adjacency_list))\n",
    "elif k<1 or res == set():\n",
    "    print(\"Вершины не найдены\")\n",
    "else:\n",
    "    print(res)"
   ]
  },
  {
   "cell_type": "markdown",
   "id": "bcca33ec-3e02-4826-b23c-d7995ed38bb6",
   "metadata": {},
   "source": [
    "#### Задача 2. Задан массив чисел и число цель, нужно вернуть индексы двух чисел, сумма которых равна цели."
   ]
  },
  {
   "cell_type": "markdown",
   "id": "8ff791c7-5d5e-4fa7-bf12-e1da86715e74",
   "metadata": {},
   "source": [
    "1. Решение с вычислительной трудоёмкостью O(N^2)"
   ]
  },
  {
   "cell_type": "code",
   "execution_count": 180,
   "id": "ee71ad42-b763-442d-a19a-2cdb79ee504c",
   "metadata": {},
   "outputs": [
    {
     "name": "stdout",
     "output_type": "stream",
     "text": [
      "nums = [3,2,4], target = 6\n",
      "ответ: [1, 2]\n",
      "nums = [3,3], target = 6\n",
      "ответ: [0, 1]\n"
     ]
    }
   ],
   "source": [
    "def twoSum(nums, target):\n",
    "    \"\"\"\n",
    "    :type nums: List[int]\n",
    "    :type target: int\n",
    "    :rtype: List[int]\n",
    "    \"\"\"\n",
    "    for i in range(len(nums)):\n",
    "        for j in range(len(nums)):\n",
    "            if i!=j and nums[i]+nums[j] == target:\n",
    "                res = sorted([i, j])\n",
    "    return res\n",
    "\n",
    "print(\"nums = [3,2,4], target = 6\")\n",
    "print(\"ответ:\", twoSum([3,2,4], 6))\n",
    "\n",
    "print(\"nums = [3,3], target = 6\")\n",
    "print(\"ответ:\", twoSum([3,3], 6))"
   ]
  },
  {
   "cell_type": "markdown",
   "id": "7bb36418-d7fe-449a-adc0-dcd88e27ab62",
   "metadata": {},
   "source": [
    "2. Решение с вычислительной трудоёмкостью O(N ln N)"
   ]
  },
  {
   "cell_type": "code",
   "execution_count": 181,
   "id": "a47f608c-9a4f-4803-971d-09cc9a7f18c0",
   "metadata": {},
   "outputs": [
    {
     "name": "stdout",
     "output_type": "stream",
     "text": [
      "nums = [2,7,11,15], target = 9\n",
      "ответ: [0, 1]\n",
      "nums = [3,4,8,3], target = 6\n",
      "ответ: [0, 3]\n"
     ]
    }
   ],
   "source": [
    "def twoSum(nums, target):\n",
    "    copied_nums = [x for x in nums]\n",
    "    nums.sort()\n",
    "    left_pointer = 0\n",
    "    right_pointer = len(nums) - 1\n",
    "\n",
    "    while nums[left_pointer] + nums[right_pointer] != target:\n",
    "        if nums[left_pointer] + nums[right_pointer] > target:\n",
    "            right_pointer -= 1\n",
    "        else:\n",
    "            left_pointer += 1\n",
    "    \n",
    "    return [copied_nums.index(nums[left_pointer]), len(copied_nums) - 1 - copied_nums[::-1].index(nums[right_pointer])]\n",
    "\n",
    "print(\"nums = [2,7,11,15], target = 9\")\n",
    "print(\"ответ:\", twoSum([2,7,11,15], 9))\n",
    "\n",
    "print(\"nums = [3,4,8,3], target = 6\")\n",
    "print(\"ответ:\", twoSum([3,4,8,3], 6))"
   ]
  },
  {
   "cell_type": "markdown",
   "id": "37b7efb8-bc65-4952-b0a6-01b30df196f8",
   "metadata": {},
   "source": [
    "3. Решение с вычислительной трудоёмкостью O(N)"
   ]
  },
  {
   "cell_type": "code",
   "execution_count": 182,
   "id": "11c5ec69-10d9-48ba-bcd4-d4fccf5f569c",
   "metadata": {},
   "outputs": [
    {
     "name": "stdout",
     "output_type": "stream",
     "text": [
      "nums = [2,7,11,15], target = 9\n",
      "ответ: [0, 1]\n",
      "nums = [3,3], target = 6\n",
      "ответ: [0, 1]\n"
     ]
    }
   ],
   "source": [
    "def twoSum(nums, target):\n",
    "    hashMap = {}\n",
    "    \n",
    "    for i, num in enumerate(nums):\n",
    "        diff = target - num\n",
    "        if diff in hashMap:\n",
    "            return [hashMap[diff], i]\n",
    "        hashMap[num] = i\n",
    "\n",
    "print(\"nums = [2,7,11,15], target = 9\")\n",
    "print(\"ответ:\", twoSum([2,7,11,15], 9))\n",
    "\n",
    "print(\"nums = [3,3], target = 6\")\n",
    "print(\"ответ:\", twoSum([3, 3], 6))"
   ]
  }
 ],
 "metadata": {
  "kernelspec": {
   "display_name": "Python 3 (ipykernel)",
   "language": "python",
   "name": "python3"
  },
  "language_info": {
   "codemirror_mode": {
    "name": "ipython",
    "version": 3
   },
   "file_extension": ".py",
   "mimetype": "text/x-python",
   "name": "python",
   "nbconvert_exporter": "python",
   "pygments_lexer": "ipython3",
   "version": "3.11.9"
  }
 },
 "nbformat": 4,
 "nbformat_minor": 5
}
